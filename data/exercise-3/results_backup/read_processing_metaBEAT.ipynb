{
 "cells": [
  {
   "cell_type": "markdown",
   "metadata": {},
   "source": [
    "## Exercise 3 - UK tree arthropods metabarcoding ##\n",
    "\n",
    "In this exercise we will use [metaBEAT](https://github.com/HullUni-bioinformatics/metaBEAT), a tool tailored towards reproducible and efficient analyses of metabarcoding data that we have developed in-house. It is still under active development and will likely be extended further in the future. The pipeline is available in a Docker [container](https://registry.hub.docker.com/u/chrishah/metabeat/) with all necessary dependencies. The Docker image is building on [ReproPhylo](https://registry.hub.docker.com/u/szitenberg/reprophylo/).\n",
    "\n",
    "The pipeline offers a large number of options. Some of them will sound familiar and should make sense to you given your experience from the course so far."
   ]
  },
  {
   "cell_type": "code",
   "execution_count": 1,
   "metadata": {
    "collapsed": false
   },
   "outputs": [
    {
     "name": "stdout",
     "output_type": "stream",
     "text": [
      "usage: metaBEAT.py [-h] [-Q <FILE>] [-B <FILE>] [--g_queries <FILE>] [-v] [-s]\r\n",
      "                   [-f] [-p] [-k] [-t] [-b] [-m <string>] [-n <INT>] [-E] [-e]\r\n",
      "                   [--read_stats_off] [--PCR_primer <FILE>]\r\n",
      "                   [--trim_adapter <FILE>] [--trim_qual <INT>] [--phred <INT>]\r\n",
      "                   [--trim_window <INT>] [--read_crop <INT>]\r\n",
      "                   [--trim_minlength <INT>] [--merge] [--product_length <INT>]\r\n",
      "                   [--merged_only] [--forward_only] [--length_filter <INT>]\r\n",
      "                   [--length_deviation <FLOAT>] [-R <FILE>] [--gb_out <FILE>]\r\n",
      "                   [--rec_check] [--gi_to_taxid <FILE>] [--cluster]\r\n",
      "                   [--clust_match <FLOAT>] [--clust_cov <INT>]\r\n",
      "                   [--blast_db <PATH>] [--blast_xml <PATH>]\r\n",
      "                   [--min_ident <FLOAT>] [--min_ali_length <FLOAT>]\r\n",
      "                   [--min_bit <INT>] [--refpkg <DIR>] [--jplace <FILE>]\r\n",
      "                   [--kraken_db <DIR>] [--rm_kraken_db] [-o OUTPUT_PREFIX]\r\n",
      "                   [--metadata METADATA] [--mock_meta_data]\r\n",
      "                   [-@ <email-address>] [--version]\r\n",
      "\r\n",
      "metaBEAT - metaBarcoding and Environmental DNA Analyses tool version:\r\n",
      "v.0.97.2-global\r\n",
      "\r\n",
      "optional arguments:\r\n",
      "  -h, --help            show this help message and exit\r\n",
      "  -Q <FILE>, --querylist <FILE>\r\n",
      "                        file containing a list of query files\r\n",
      "  -B <FILE>, --BIOM_input <FILE>\r\n",
      "                        OTU table in BIOM format\r\n",
      "  --g_queries <FILE>    fasta file containing query sequences (in combination\r\n",
      "                        with '-B' sequence headers are expected to match)\r\n",
      "  -v, --verbose         turn verbose output on\r\n",
      "  -s, --seqinfo         write out seq_info.csv file\r\n",
      "  -f, --fasta           write out ref.fasta file\r\n",
      "  -p, --pplace          perform phylogenetic placement\r\n",
      "  -k, --kraken          perform phylogenetic placement\r\n",
      "  -t, --taxids          write out taxid.txt file\r\n",
      "  -b, --blast           compile local blast db and blast queries\r\n",
      "  -m <string>, --marker <string>\r\n",
      "                        marker ID (default: marker)\r\n",
      "  -n <INT>, --n_threads <INT>\r\n",
      "                        Number of threads (default: 1)\r\n",
      "  -E, --extract_centroid_reads\r\n",
      "                        extract centroid reads to files\r\n",
      "  -e, --extract_all_reads\r\n",
      "                        extract reads to files\r\n",
      "  --read_stats_off      ommit writing read stats to file\r\n",
      "  --version             show program's version number and exit\r\n",
      "\r\n",
      "Query preprocessing:\r\n",
      "  The parameters in this group affect how the query sequences are processed\r\n",
      "\r\n",
      "  --PCR_primer <FILE>   PCR primers (provided in fasta file) to be clipped\r\n",
      "                        from reads\r\n",
      "  --trim_adapter <FILE>\r\n",
      "                        trim adapters provided in file\r\n",
      "  --trim_qual <INT>     minimum phred quality score (default: 30)\r\n",
      "  --phred <INT>         phred quality score offset - 33 or 64 (default: 33)\r\n",
      "  --trim_window <INT>   sliding window size (default: 5) for trimming; if\r\n",
      "                        average quality drops below the specified minimum\r\n",
      "                        quality all subsequent bases are removed from the\r\n",
      "                        reads\r\n",
      "  --read_crop <INT>     Crop reads to this length if they are longer than that\r\n",
      "                        (default: off)\r\n",
      "  --trim_minlength <INT>\r\n",
      "                        minimum length of reads to be retained after trimming\r\n",
      "                        (default: 50)\r\n",
      "  --merge               attempt to merge paired-end reads\r\n",
      "  --product_length <INT>\r\n",
      "                        estimated length of PCR product (specifying this\r\n",
      "                        option increases merging efficiency)\r\n",
      "  --merged_only         only process successfully merged read-pairs\r\n",
      "  --forward_only        only process sequences that contain forward reads\r\n",
      "                        (i.e. unmerged forward reads and merged reads)\r\n",
      "  --length_filter <INT>\r\n",
      "                        only process reads, which are within +/- 10 percent of\r\n",
      "                        this length\r\n",
      "  --length_deviation <FLOAT>\r\n",
      "                        allowed deviation (in percent) from length specified\r\n",
      "                        by --length_filter (default=0.1)\r\n",
      "\r\n",
      "Reference:\r\n",
      "  The parameters in this group affect the reference to be used in the\r\n",
      "  analyses\r\n",
      "\r\n",
      "  -R <FILE>, --REFlist <FILE>\r\n",
      "                        file containing a list of files to be used as\r\n",
      "                        reference sequences\r\n",
      "  --gb_out <FILE>       output the corrected gb file\r\n",
      "  --rec_check           check records to be used as reference\r\n",
      "  --gi_to_taxid <FILE>  comma delimited file containing 'gi accession,taxid'\r\n",
      "                        for a list of taxa\r\n",
      "\r\n",
      "Query clustering options:\r\n",
      "  The parameters in this group affect read clustering\r\n",
      "\r\n",
      "  --cluster             perform clustering of query sequences using vsearch\r\n",
      "  --clust_match <FLOAT>\r\n",
      "                        identity threshold for clustering in percent (default:\r\n",
      "                        1)\r\n",
      "  --clust_cov <INT>     minimum number of records in cluster (default: 1)\r\n",
      "\r\n",
      "BLAST search:\r\n",
      "  The parameters in this group affect BLAST search and BLAST based taxonomic\r\n",
      "  assignment\r\n",
      "\r\n",
      "  --blast_db <PATH>     path to precompiled blast database\r\n",
      "  --blast_xml <PATH>    path to Blast result in xml format\r\n",
      "  --min_ident <FLOAT>   minimum identity threshold in percent (default: 0.80)\r\n",
      "  --min_ali_length <FLOAT>\r\n",
      "                        minimum alignment length in percent of total query\r\n",
      "                        length (default: 0.95)\r\n",
      "  --min_bit <INT>       minimum bitscore (default: 80)\r\n",
      "\r\n",
      "Phylogenetic placement:\r\n",
      "  The parameters in this group affect phylogenetic placement\r\n",
      "\r\n",
      "  --refpkg <DIR>        PATH to refpkg for pplacer\r\n",
      "  --jplace <FILE>       phylogenetic placement result from prefious pplacer\r\n",
      "                        run in *.jplace format\r\n",
      "\r\n",
      "Kraken:\r\n",
      "  The parameters in this group affect taxonomic assignment using Kraken\r\n",
      "\r\n",
      "  --kraken_db <DIR>     PATH to a Kraken database\r\n",
      "  --rm_kraken_db        Remove Kraken database after successful completion\r\n",
      "\r\n",
      "BIOM OUTPUT:\r\n",
      "  The arguments in this groups affect the output in BIOM format\r\n",
      "\r\n",
      "  -o OUTPUT_PREFIX, --output_prefix OUTPUT_PREFIX\r\n",
      "                        prefix for BIOM output files (default='metaBEAT')\r\n",
      "  --metadata METADATA   comma delimited file containing metadata (optional)\r\n",
      "  --mock_meta_data      add mock metadata to the samples in the BIOM output\r\n",
      "\r\n",
      "Entrez identification:\r\n",
      "  metaBEAT is querying the NCBI Entrez databases, please provide an email\r\n",
      "  address for identification\r\n",
      "\r\n",
      "  -@ <email-address>, --email <email-address>\r\n",
      "                        provide your email address for identification to NCBI\r\n"
     ]
    }
   ],
   "source": [
    "!metaBEAT_global.py -h"
   ]
  },
  {
   "cell_type": "markdown",
   "metadata": {},
   "source": [
    "Minimum input for an anlysis is a set of query sequences in one or several files (accepted are a number of file formats, e.g. fasta, fastq). These will be run through the pipeline sequentially.\n",
    "\n",
    "You will need to provide information on the nature and location of the query sequence files in a separate tab-delimited text files via the -Q flag. We have prepared the reads for you in the directory `READS`.\n",
    "\n",
    "Each line in this text file should look as follows:\n",
    "```\n",
    "unique sample_ID <tab> format <tab> file1 <tab> file2\n",
    "```\n",
    "\n",
    "An example can be found [here](https://github.com/HullUni-bioinformatics/egrep-2016/blob/master/data/exercise-3/Queryfile_example.txt).\n",
    "\n",
    "You may generate the required text files in any text editor - e.g. nano in a terminal.\n",
    "\n",
    "You could call your samples anything, but we suggest that you use sample names that match the filenames of the Illumina data that you have downloaded before. See also the sample [metadata](https://github.com/HullUni-bioinformatics/egrep-2016/blob/master/data/metadata/2014_tree_metadata.csv) that we've provided.\n",
    "\n",
    "Example line:\n",
    "```\n",
    "THB_BET    fastq    ./READS/THB_BET_1.fastq.gz   ./READS/THB_BET_2.fastq.gz\n",
    "...\n",
    "...\n",
    "```\n",
    "\n",
    "For the sake of reproducibility and because it's (arguably) much easier, you can also use your command line skills or write a simple program that will generate the required file.\n",
    "\n",
    "In the cell below we produce it using a simple python script.\n",
    "The script will list all files in the location to which we've placed the Illumina data (specified via the 'datadir' variable. It assumes that there is a file ending in `_1.fastq` for each sample. For each such file, it will extract the sample name from the filename and format the required line for the text file accordingly. We call the resulting file `Querymap.txt` (specified in the 'to' variable).\n",
    "\n",
    "See if you can find your own solution using your command line skills."
   ]
  },
  {
   "cell_type": "code",
   "execution_count": 2,
   "metadata": {
    "collapsed": false
   },
   "outputs": [],
   "source": [
    "import os\n",
    "\n",
    "datadir = './READS/'\n",
    "to = 'Querymap.txt'\n",
    "\n",
    "####################\n",
    "out_list = []\n",
    "string = ''\n",
    "files = os.listdir(datadir)\n",
    "for f in sorted(files):\n",
    "    if '_1.fastq' in f:\n",
    "        string += \"%s\\tfastq\\t%s%s\\t%s/%s\" %(f.replace('_1.fastq.gz', ''), datadir, f, datadir, f.replace('_1.fastq', '_2.fastq'))+'\\n'\n",
    "\n",
    "out = open(to, 'w')\n",
    "out.write(string)\n",
    "out.close()"
   ]
  },
  {
   "cell_type": "markdown",
   "metadata": {},
   "source": [
    "Have a look (note that the output may be line-wrapped)."
   ]
  },
  {
   "cell_type": "code",
   "execution_count": 3,
   "metadata": {
    "collapsed": false
   },
   "outputs": [
    {
     "name": "stdout",
     "output_type": "stream",
     "text": [
      "AHA_ASH\tfastq\t./READS/AHA_ASH_1.fastq.gz\t./READS//AHA_ASH_2.fastq.gz\r\n",
      "AHA_BEE\tfastq\t./READS/AHA_BEE_1.fastq.gz\t./READS//AHA_BEE_2.fastq.gz\r\n",
      "AHA_BET\tfastq\t./READS/AHA_BET_1.fastq.gz\t./READS//AHA_BET_2.fastq.gz\r\n",
      "AHA_HAZ\tfastq\t./READS/AHA_HAZ_1.fastq.gz\t./READS//AHA_HAZ_2.fastq.gz\r\n",
      "AHA_OAK\tfastq\t./READS/AHA_OAK_1.fastq.gz\t./READS//AHA_OAK_2.fastq.gz\r\n",
      "AHB_ASH\tfastq\t./READS/AHB_ASH_1.fastq.gz\t./READS//AHB_ASH_2.fastq.gz\r\n",
      "AHB_BEE\tfastq\t./READS/AHB_BEE_1.fastq.gz\t./READS//AHB_BEE_2.fastq.gz\r\n",
      "AHB_BET\tfastq\t./READS/AHB_BET_1.fastq.gz\t./READS//AHB_BET_2.fastq.gz\r\n",
      "AHB_OAK\tfastq\t./READS/AHB_OAK_1.fastq.gz\t./READS//AHB_OAK_2.fastq.gz\r\n",
      "AHC_ASH\tfastq\t./READS/AHC_ASH_1.fastq.gz\t./READS//AHC_ASH_2.fastq.gz\r\n"
     ]
    }
   ],
   "source": [
    "!head Querymap.txt"
   ]
  },
  {
   "cell_type": "markdown",
   "metadata": {},
   "source": [
    "__Now__, we will be perform basic quality trimming and clipping (Trimmomatic), paired-end read merging (flash) and read clustering at 97 % identity (vsearch), essentially as you did in the previous exercise. Only this time we will be using our custom pipeline metaBEAT to process all 39 samples in one go.\n",
    "\n",
    "In addition to the `Querymap.txt` file that contains the location of the input fastq data we specify a fasta file containing the PCR primer sequences that were used to amplify the fragments. We want these to be removed from the sequences to only retain the actual biological sequence. We also provide a bunch of options affecting the trimming, merging and clustering procedures that may make some intuitive sense for you by now.\n",
    "\n",
    "You will also have to provide an email address via the `-@` flag. The pipeline is desigend to automatically communicate with Genbank and the NCBI expects that you identify yourself so that they can get in touch in case there is a problem with your query.\n",
    "\n",
    "See the below command:"
   ]
  },
  {
   "cell_type": "code",
   "execution_count": null,
   "metadata": {
    "collapsed": false
   },
   "outputs": [],
   "source": [
    "%%bash\n",
    "\n",
    "echo -e \"Starttime: $(date)\\n\"\n",
    "\n",
    "metaBEAT_global.py \\\n",
    "-Q Querymap.txt \\\n",
    "--PCR_primer PCR_primers.fasta \\\n",
    "--trim_qual 30 --trim_minlength 100 \\\n",
    "--merge --product_length 350 --merged_only \\\n",
    "--cluster --clust_match 0.97 --clust_cov 3 \\\n",
    "--length_filter 313 --length_deviation 0.10 \\\n",
    "-m COI -o COI-trim30min100-merge-c3-id97 \\\n",
    "-n 5 -@ your.mail@email.com &> metaBEAT-c97.log\n",
    "\n",
    "echo -e \"Endtime: $(date)\\n\""
   ]
  },
  {
   "cell_type": "markdown",
   "metadata": {
    "collapsed": true
   },
   "source": [
    "Some more details about the above command:\n",
    "\n",
    "```bash\n",
    "metaBEAT_global.py \\ #call the program\n",
    "-Q Querymap.txt \\ #path to the Querymap\n",
    "-_PCR_primer PCR_primers.fasta \\ #fasta file containing the PCR primer sequences used for amplification\n",
    "--trim_qual 30 \\ #minimum quality for trimming is prhed Q30 (trimmomatic)\n",
    "--trim_minlength 100 \\ #only retain reads longer than 100 bp after trimming\n",
    "--merge \\ #merge overlapping read pairs (flash)\n",
    "--merged_only \\ #retain only reads for which forward and reverse reads were sucessfully merged\n",
    "--product_length 350 \\ #expected length of merged read is roughly 350 bp\n",
    "--cluster \\ #cluster sequences (vsearch)\n",
    "--clust_match 0.97 \\ #cluster at 100 % identity\n",
    "--clust_cov 3 \\ #minimum coverage of 3 reads to retain cluster\n",
    "--length_filter 313 \\ #expected product length after trimming\n",
    "--length_deviation 0.10 \\ #acceptable length deviation from expected length\n",
    "-m COI \\ #name of the marker gene (arbitrary)\n",
    "-o COI-trim30min100-merge-c3-id97 \\ #prefix for results files\n",
    "-n 5 \\ #use 5 threads\n",
    "-@ your.mail@email.com \\ #provide your email address\n",
    "\n",
    "\n",
    "```\n",
    "\n",
    "__Well Done__ if you got it running without errors. Each sample contains up to several 100k reads so the process will take a few hours (overnight).\n",
    "\n",
    "metaBEAT will generate a directory with all temporary files that were create during the processing for each sample. The details of all processing steps that the pipeline performs are written to the file `metaBEAT-c97.log`.\n",
    "\n",
    "The final denovo OTU table will be placed in a directory `GLOBAL` in two different formats:\n",
    "```bash\n",
    "GLOBAL/COI-trim30min100-merge-c3-id97-OTU-denovo.biom \n",
    "GLOBAL/COI-trim30min100-merge-c3-id97-OTU-denovo.tsv #human readable\n",
    "\n",
    "```\n",
    "The table will look roughly like [this](https://github.com/HullUni-bioinformatics/egrep-2016/blob/master/data/exercise-3/results_backup/COI-trim30min100-merge-c3-id97-OTU-denovo.tsv). We will add taxonomic assignments and some metadata to these tables at a later stage.\n",
    "\n",
    "\n",
    "Useful stats summarizing the data processing will be recorded in the file `COI-trim30min100-merge-c3-id97_read_stats.csv`. Will look roughly like [this](https://github.com/HullUni-bioinformatics/egrep-2016/blob/master/data/exercise-3/results_backup/COI-trim30min100-merge-c3-id97_read_stats.csv).\n",
    "\n",
    "You could explore the table manually or we could make full use of our Jupyter noteook and quickly plot out some of these stats directly here in the notebook, e.g. like so:"
   ]
  },
  {
   "cell_type": "code",
   "execution_count": 4,
   "metadata": {
    "collapsed": false
   },
   "outputs": [
    {
     "data": {
      "image/png": "[encoded data removed]",
      "text/plain": [
       "<matplotlib.figure.Figure at 0x7f85866c5210>"
      ]
     },
     "metadata": {},
     "output_type": "display_data"
    }
   ],
   "source": [
    "import matplotlib.pyplot as plt\n",
    "import numpy as np\n",
    "%matplotlib inline\n",
    "\n",
    "# parse metaBEAT_read_stats.csv\n",
    "stats_file = 'COI-trim30min100-merge-c3-id97_read_stats.csv'\n",
    "\n",
    "################\n",
    "## prepare data\n",
    "total_pairs = []\n",
    "trimmed_pairs = []\n",
    "trimmed_orphams = []\n",
    "merged_pairs = []\n",
    "clusters_total = []\n",
    "clusters_ok = []\n",
    "queries = []\n",
    "\n",
    "for l in open(stats_file, 'r').readlines()[1:]:\n",
    "    smpl, tot, trimtot, trimpe, trimorph, merged, n1,n2,n3,n4, q = l.rstrip().split(',')\n",
    "    total_pairs.append(int(tot)/2.0)\n",
    "    trimmed_pairs.append(int(trimpe)/2.0)\n",
    "    trimmed_orphams.append(int(trimorph))\n",
    "    merged_pairs.append(int(merged))\n",
    "    clusters_total.append(int(n2))\n",
    "    clusters_ok.append(int(n4))\n",
    "    queries.append(int(q))\n",
    "    \n",
    "    \n",
    "dat = [total_pairs, trimmed_pairs, trimmed_orphams, merged_pairs, clusters_total, clusters_ok, queries]\n",
    "dat = [np.array(d) for d in dat]\n",
    "x = ['raw pairs', 'trimmed pairs', 'trimmed orphans', 'merged pairs', 'clusters total', 'clusters pass', 'queries']\n",
    "\n",
    "################\n",
    "## do the plotting\n",
    "fig = plt.figure(1, figsize=(12, 6))\n",
    "ax = fig.add_subplot(111)\n",
    "bp = ax.boxplot(dat)\n",
    "bp = ax.set_xticklabels(x, rotation=45)"
   ]
  },
  {
   "cell_type": "code",
   "execution_count": 6,
   "metadata": {
    "collapsed": false
   },
   "outputs": [
    {
     "data": {
      "image/png": "[encoded data removed]",
      "text/plain": [
       "<matplotlib.figure.Figure at 0x7f8586632dd0>"
      ]
     },
     "metadata": {},
     "output_type": "display_data"
    }
   ],
   "source": [
    "import matplotlib.pyplot as plt\n",
    "import numpy as np\n",
    "%matplotlib inline\n",
    "\n",
    "\n",
    "####\n",
    "dat = [clusters_total, clusters_ok]\n",
    "dat = [np.array(d) for d in dat]\n",
    "x = ['clusters total', 'clusters pass']\n",
    "\n",
    "fig = plt.figure(1, figsize=(12, 6))\n",
    "ax = fig.add_subplot(111)\n",
    "bp = ax.boxplot(dat)\n",
    "bp = ax.set_xticklabels(x, rotation=45)"
   ]
  }
 ],
 "metadata": {
  "kernelspec": {
   "display_name": "Python 2",
   "language": "python",
   "name": "python2"
  },
  "language_info": {
   "codemirror_mode": {
    "name": "ipython",
    "version": 2
   },
   "file_extension": ".py",
   "mimetype": "text/x-python",
   "name": "python",
   "nbconvert_exporter": "python",
   "pygments_lexer": "ipython2",
   "version": "2.7.6"
  }
 },
 "nbformat": 4,
 "nbformat_minor": 0
}
