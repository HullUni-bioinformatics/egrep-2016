{
 "cells": [
  {
   "cell_type": "markdown",
   "metadata": {},
   "source": [
    "#Exploring, trimming and processing of Illumina (fastq) data \n",
    "\n"
   ]
  },
  {
   "cell_type": "markdown",
   "metadata": {},
   "source": [
    "\n",
    "The exercise makes use of a number of programs that are all pre-installed in the metaBEAT docker image."
   ]
  },
  {
   "cell_type": "markdown",
   "metadata": {},
   "source": [
    "__TASK__\n",
    "\n",
    "\n",
    "__How to display the first 12 lines of a gzipped file?__\n",
    "\n",
    "\n",
    "\n"
   ]
  },
  {
   "cell_type": "code",
   "execution_count": null,
   "metadata": {
    "collapsed": true
   },
   "outputs": [],
   "source": [
    "!gunzip example.fastq.gz"
   ]
  },
  {
   "cell_type": "code",
   "execution_count": 19,
   "metadata": {
    "collapsed": false,
    "scrolled": true
   },
   "outputs": [
    {
     "name": "stdout",
     "output_type": "stream",
     "text": [
      "@1_1101_20378_1073_1\r\n",
      "GTACAGGTTGAACTGTTTACCCTCCCTATCCTCCAACCTCTCCCACAACGGAGCATCAGTAGATTTAGCCATCTTCTCCCTACATTTAGCAGGAGTATCA\r\n",
      "+\r\n",
      "EGGGFGFEFGGGGGGGGGGGGGGGGGGGE@EEFGGGGG@FE<FFGGDGGEGCCFF@FGFFGGD<FFGGGGGGGGGFFGFFFFDFEEEEC@,6C==9E?EF\r\n",
      "@1_1101_19728_1076_1\r\n",
      "GTACTGGATGAACAGTTTATCCCCCCCTATCCTCAACCTCTCTCACAACGGAGCATCAGTAGATTTAGCCATCTTCTCCCTACATTTAGCAGGAGTATCA\r\n",
      "+\r\n",
      "GGGGGGGFGGGGGGGGGGGGGGGGGGGGGGGGGGGGGGGGGFGGGGGGGGGGCFFGG8EGGGF@FFFCFGGGFFGGDGFGEFGGGFGGGGGFGGGGGGGC\r\n",
      "@1_1101_11882_1079_1\r\n",
      "GAACTGGTTGAACAGTATATCCTCCGCTCTCTAGAGCGATTGCCCACACAGGGGCTTCGGTTGATCTCGCCATCTTCTCTCTTCACCTTGCAGGTGTAAG\r\n",
      "+\r\n",
      "GGGGGGGFGGGGGGGGGGGGGGGGGGGFGGGGGGGGGGGGGGGGGGGGGG@FGGGCGGFGGGGGGGGEGGGGGGGGGGGGGGCEGGGGGGGGFGGGGGGC\r\n"
     ]
    }
   ],
   "source": [
    "!head -n 12 example.fastq"
   ]
  },
  {
   "cell_type": "markdown",
   "metadata": {},
   "source": [
    "Explore the above output and try to understand the basic characteristics of the fastq format. How many lines are there per sequence? How is `fastq` different from `fasta` format?"
   ]
  },
  {
   "cell_type": "markdown",
   "metadata": {},
   "source": [
    "The pipe symbol `|` is an extremely powerful function to pass the output from one command directly to the next command. This is often referred to as 'piping'. You have used it already in the command line exercise on the first day. You can also use it to peek into compressed files, without physically decompressing the data to disk first."
   ]
  },
  {
   "cell_type": "code",
   "execution_count": null,
   "metadata": {
    "collapsed": false
   },
   "outputs": [],
   "source": [
    "!gunzip -c example.fastq.gz | head -n 12"
   ]
  },
  {
   "cell_type": "code",
   "execution_count": null,
   "metadata": {
    "collapsed": false
   },
   "outputs": [],
   "source": [
    "!zcat example.fastq.gz | head -n 12"
   ]
  },
  {
   "cell_type": "markdown",
   "metadata": {},
   "source": [
    "__TASK__\n",
    "\n",
    "__Determine the number of sequences in a fastq file__"
   ]
  },
  {
   "cell_type": "markdown",
   "metadata": {},
   "source": [
    "Display only every 4th line of the file and count the lines (assuming your file is still compressed)."
   ]
  },
  {
   "cell_type": "code",
   "execution_count": null,
   "metadata": {
    "collapsed": false
   },
   "outputs": [],
   "source": [
    "!zcat example.fastq.gz | sed -n '1~4p' | wc -l"
   ]
  },
  {
   "cell_type": "markdown",
   "metadata": {},
   "source": [
    "As we did before for the `fasta` file, we could search for lines with a specific pattern in the `fastq` file that we are sure will only occur once per sequence and count."
   ]
  },
  {
   "cell_type": "markdown",
   "metadata": {},
   "source": [
    "As you know by now, per definition, each sequence header in fastq format starts with an '@' character. Couldn't we simply look for that?\n",
    "\n"
   ]
  },
  {
   "cell_type": "code",
   "execution_count": null,
   "metadata": {
    "collapsed": false
   },
   "outputs": [],
   "source": [
    "!zcat example.fastq.gz | grep \"@\" | wc -l"
   ]
  },
  {
   "cell_type": "markdown",
   "metadata": {},
   "source": [
    "Let's be more specific and look only for lines that start with an '@' character."
   ]
  },
  {
   "cell_type": "code",
   "execution_count": null,
   "metadata": {
    "collapsed": false
   },
   "outputs": [],
   "source": [
    "!zcat example.fastq.gz  | grep \"^@\" | wc -l"
   ]
  },
  {
   "cell_type": "markdown",
   "metadata": {},
   "source": [
    "Still not quite.. __Why could that be?__"
   ]
  },
  {
   "cell_type": "markdown",
   "metadata": {},
   "source": [
    "Another useful pattern to search for is a line that contains only '+', i.e. the 3rd line in the standard fastq format."
   ]
  },
  {
   "cell_type": "code",
   "execution_count": null,
   "metadata": {
    "collapsed": false
   },
   "outputs": [],
   "source": [
    "!zcat example.fastq.gz | grep \"^+$\" | wc -l"
   ]
  },
  {
   "cell_type": "markdown",
   "metadata": {},
   "source": [
    "##Quality trimming"
   ]
  },
  {
   "cell_type": "markdown",
   "metadata": {
    "collapsed": true
   },
   "source": [
    "__TASK__\n",
    "\n",
    "Qality trim to a phred score of Q > 30, discarding sequences of length shorter than 250 bp.\n",
    "\n",
    "\n",
    "\n",
    "Two steps:\n",
    " - decompress (gunzip)\n",
    " - perform trimming\n"
   ]
  },
  {
   "cell_type": "code",
   "execution_count": null,
   "metadata": {
    "collapsed": false
   },
   "outputs": [],
   "source": [
    "%%bash\n",
    "gunzip AHA_ASH_2.fastq.gz\n",
    "fastq_quality_trimmer -Q 33 -t 30 -l 250 -v -i AHA_ASH_2.fastq -o AHA_ASH_2-trimmed.fastq"
   ]
  },
  {
   "cell_type": "markdown",
   "metadata": {},
   "source": [
    "Alternatively you could use the pipe function also here:"
   ]
  },
  {
   "cell_type": "code",
   "execution_count": null,
   "metadata": {
    "collapsed": false
   },
   "outputs": [],
   "source": [
    "!zcat AHA_ASH_2.fastq.gz | \\\n",
    "fastq_quality_trimmer -Q 33 -t 30 -l 250 -v -o AHA_ASH_2-trimmed.fastq"
   ]
  },
  {
   "cell_type": "markdown",
   "metadata": {},
   "source": [
    "__TASK__\n",
    "\n",
    "Filter all reads with a quality Q < 30 in more than 40% of their bases."
   ]
  },
  {
   "cell_type": "code",
   "execution_count": null,
   "metadata": {
    "collapsed": false
   },
   "outputs": [],
   "source": [
    "!fastq_quality_filter -i AHA_ASH_2.fastq -Q 33 -q 30 -p 60 -v -o AHA_ASH_2-filtered.fastq\n"
   ]
  },
  {
   "cell_type": "markdown",
   "metadata": {},
   "source": [
    "__TASK__\n",
    "\n",
    "Combine both of the above via pipe. __Note__ that the `\\` symbols at the end of some lines below are just to line wrap the command in order to make it more easily readable. It is still only one command."
   ]
  },
  {
   "cell_type": "code",
   "execution_count": null,
   "metadata": {
    "collapsed": false
   },
   "outputs": [],
   "source": [
    "!zcat AHA_ASH_1.fastq.gz  | \\\n",
    "fastq_quality_filter -Q 33 -q 30 -p 60 -v | \\\n",
    "fastq_quality_trimmer -Q 33 -t 30 -l 250 -v -o AHA_ASH_1-trim-filter.fastq"
   ]
  },
  {
   "cell_type": "markdown",
   "metadata": {},
   "source": [
    "##Reduce redundancy by read clustering\n",
    "\n",
    "[vsearch](https://github.com/torognes/vsearch) for read clustering. \n",
    "\n",
    "A real world metabarcoding use case for `vsearch` could be:\n",
    "\n",
    "Cluster the merged reads at 97% similarity, retaining one sequence per cluster (aka a 'centroid') and write a table summarizing the fate of each sequence in the dataset.\n",
    "\n",
    "\n",
    "[vsearch](https://github.com/torognes/vsearch) is an extremely versatile tool, worth knowing your way around with.\n",
    "\n",
    "\n",
    "Note that to perform clustering you'll first have to convert your fastq seqeunces into fasta format.\n",
    "\n",
    "you could do this using a tool from FASTX-toolkit, e.g.:"
   ]
  },
  {
   "cell_type": "code",
   "execution_count": null,
   "metadata": {
    "collapsed": false
   },
   "outputs": [],
   "source": [
    "!fastq_to_fasta -h"
   ]
  },
  {
   "cell_type": "code",
   "execution_count": null,
   "metadata": {
    "collapsed": false
   },
   "outputs": [],
   "source": [
    "%%bash\n",
    "gunzip AHA_ASH.extendedFrags.fastq.gz\n",
    "fastq_to_fasta -Q 33 -v -n -i AHA_ASH.extendedFrags.fastq -o AHA_ASH.extendedFrags.fasta"
   ]
  },
  {
   "cell_type": "markdown",
   "metadata": {},
   "source": [
    "Or use some simple python code and [Biopython](http://biopython.org/wiki/Biopython) functions."
   ]
  },
  {
   "cell_type": "code",
   "execution_count": null,
   "metadata": {
    "collapsed": false
   },
   "outputs": [],
   "source": [
    "from Bio import SeqIO\n",
    "\n",
    "Seqs = SeqIO.parse(open('AHA_ASH.extendedFrags.fastq','r'), 'fastq')\n",
    "\n",
    "output_handle = open(\"AHA_ASH.extendedFrags.fasta\", \"w\")\n",
    "\n",
    "count = SeqIO.write(Seqs, output_handle, \"fasta\")\n",
    "\n",
    "output_handle.close()\n",
    "\n",
    "print(\"Converted %i reads from 'fasta' to 'fastq' format\" % count)"
   ]
  },
  {
   "cell_type": "markdown",
   "metadata": {},
   "source": [
    "Now, let's cluster at 97 % similarity."
   ]
  },
  {
   "cell_type": "code",
   "execution_count": null,
   "metadata": {
    "collapsed": false
   },
   "outputs": [],
   "source": [
    "%%bash\n",
    "\n",
    "vsearch --cluster_fast AHA_ASH.extendedFrags.fasta --id 0.97 \\\n",
    "--centroids AHA_ASH.extended.clustered-0.97.fasta \\\n",
    "--uc AHA_ASH.extended.clustered-0.97.uc"
   ]
  },
  {
   "cell_type": "markdown",
   "metadata": {},
   "source": [
    "Now, let's cluster at 95 % similarity."
   ]
  },
  {
   "cell_type": "code",
   "execution_count": null,
   "metadata": {
    "collapsed": false
   },
   "outputs": [],
   "source": [
    "%%bash\n",
    "\n",
    "vsearch --cluster_fast AHA_ASH.extendedFrags.fasta --id 0.95 \\\n",
    "--centroids AHA_ASH.extended.clustered-0.95.fasta \\\n",
    "--uc AHA_ASH.extended.clustered-0.95.uc"
   ]
  },
  {
   "cell_type": "markdown",
   "metadata": {},
   "source": [
    "How many clusters did you retain? Compare 97% vs. 95% clustering. Which similarity setting do you think would be appropriate? Something to discuss.."
   ]
  },
  {
   "cell_type": "markdown",
   "metadata": {},
   "source": [
    "__Well Done!__"
   ]
  },
  {
   "cell_type": "markdown",
   "metadata": {},
   "source": [
    "##BLAST \n",
    "\n",
    "BLAST search against the full nucleotide (nt) database downloaded from Genbank."
   ]
  },
  {
   "cell_type": "code",
   "execution_count": null,
   "metadata": {
    "collapsed": false
   },
   "outputs": [],
   "source": [
    "!blastn -db ../reference-dbs/BLAST/nt/nt -query AHA_ASH.extended.clustered-0.97.fasta \\\n",
    "-num_alignments 50 -out AHA_ASH.extended.clustered-0.97.blastn.nt.out"
   ]
  }
 ],
 "metadata": {
  "kernelspec": {
   "display_name": "Python 2",
   "language": "python",
   "name": "python2"
  },
  "language_info": {
   "codemirror_mode": {
    "name": "ipython",
    "version": 2
   },
   "file_extension": ".py",
   "mimetype": "text/x-python",
   "name": "python",
   "nbconvert_exporter": "python",
   "pygments_lexer": "ipython2",
   "version": "2.7.6"
  }
 },
 "nbformat": 4,
 "nbformat_minor": 0
}
