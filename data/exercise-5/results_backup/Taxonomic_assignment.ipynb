{
 "cells": [
  {
   "cell_type": "markdown",
   "metadata": {},
   "source": [
    "# Exercise 5 - Taxonomic assignment"
   ]
  },
  {
   "cell_type": "markdown",
   "metadata": {},
   "source": [
    "In this exercise we will attempt to assign taxonomic identity to the set of denovo OTUs obtained from the 39 UK tree arthropod metabarcoding samples that we have produced in [exercise-3](https://github.com/HullUni-bioinformatics/egrep-2016/tree/master/data/exercise-3).\n",
    "\n",
    "We will again be using our custom pipeline metaBEAT to make our lives easier and to facilitate reproducibility.\n",
    "\n",
    "Taxonomic assignment will be performed using two different approaches:\n",
    " - BLAST based LCA\n",
    " - [Kraken](http://ccb.jhu.edu/software/kraken/MANUAL.html) (k-mer based sequence classification)\n",
    "\n",
    "We will be using a custom reference database that we have prepared for you (details can be found [here](https://github.com/HullUni-bioinformatics/egrep-2016/blob/master/data/reference-dbs/supplementary_material/download_reference_data.ipynb).\n",
    "\n",
    "The final result of this exercise will be taxonomically annotated OTU tables in [BIOM](http://biom-format.org/) format from each approach, which we can then go an compare (if we have time). BIOM format and the associated set of python functions has been developed as a standardized format for representing 'biological sample by observation contingency tables' in the -omics area - so big tables...\n"
   ]
  },
  {
   "cell_type": "markdown",
   "metadata": {},
   "source": [
    "Before we'll set the pipeline going we need to prepare a metadata file with relevant info about the samples (e.g. tree species, forest, replicate) that we want to add to our final BIOM tables.\n",
    "\n",
    "This should be a simple comma-delimited text file, that should look like this:\n",
    "```bash\n",
    "Sample,Forest,Species,Replicate\n",
    "THB_BET,Thetford,Betula_pendula,TH_BET\n",
    "THA_OAK,Thetford,Quercus_robur,TH_OAK\n",
    "...\n",
    "...\n",
    "```\n",
    "\n",
    "The complete metadata for the samples is in `../metadata/2014_tree_metadata.csv`. \n",
    "\n",
    "Use you command line skills to produce this file. Note that the header lines as well as the columns 1,2 and 3 you can extract straight from the complete metadata file. Column 4 'Replicate' you should be able to produce by modifying the original sample id. \n",
    "\n",
    "Below is a solution using python."
   ]
  },
  {
   "cell_type": "code",
   "execution_count": null,
   "metadata": {
    "collapsed": false
   },
   "outputs": [],
   "source": [
    "infile = open('../metadata/2014_tree_metadata.csv','r')\n",
    "\n",
    "headers = infile.next().strip().split(\",\")\n",
    "\n",
    "out = \"%s,%s,%s,Replicate\\n\" %(headers[0],headers[3],headers[5])\n",
    "\n",
    "for line in infile:\n",
    "    l = line.strip().split(\",\")\n",
    "    out+=\"%s,%s,%s,%s_%s\\n\" %(l[0],l[3],l[5],l[0][:2],l[0][4:])\n",
    "\n",
    "outfile = open('metadata.csv','w')    \n",
    "outfile.write(out)\n",
    "\n",
    "infile.close()\n",
    "outfile.close()"
   ]
  },
  {
   "cell_type": "markdown",
   "metadata": {},
   "source": [
    "Now let's start the pipeline. As input you need to specify the denovo OTU table from exercise 3 in BIOM format. We'll also ask metaBEAT to attempt taxonomic assignment with the two different approaches mentioned above.\n",
    "\n",
    "Both BLAST and Kraken require databases in specific formats that metaBEAT will build automatically if necessary, but for the purpose of this course we have prepared it for you (see [here](https://github.com/HullUni-bioinformatics/egrep-2016/blob/master/data/reference-dbs/supplementary_material/download_reference_data.ipynb) if you are interested in how exactly it was done). The respective databases can be found at:\n",
    "```bash\n",
    "../reference-dbs/BLAST/egrep-custom/blast_k31n5 #blast database\n",
    "../reference-dbs/KRAKEN/kraken_k31n5 #kraken database\n",
    "```\n",
    "\n",
    "metaBEAT will automatically wrangle the data into the particular file formats that are required by each of the methods, run all necessary steps, and finally convert the outputs of each program to a standardized BIOM table.\n",
    "\n",
    "\n",
    "__Set it off! __"
   ]
  },
  {
   "cell_type": "code",
   "execution_count": null,
   "metadata": {
    "collapsed": false
   },
   "outputs": [],
   "source": [
    "%%bash\n",
    "\n",
    "metaBEAT_global.py \\\n",
    "-B ../exercise-3/GLOBAL/COI-trim30min100-merge-c3-id97-OTU-denovo.biom \\\n",
    "--metadata metadata.csv \\\n",
    "--kraken --kraken_db ../reference-dbs/KRAKEN/kraken_k31n5 \\\n",
    "--blast --blast_db ../reference-dbs/BLAST/egrep-custom/blast_k31n5 --min_ident 0.8 \\\n",
    "-n 5 -o COI-trim30min100-merge-c3-id97\n"
   ]
  },
  {
   "cell_type": "markdown",
   "metadata": {},
   "source": [
    "\n",
    "\n",
    "\n",
    "Detailed explanation of the above command:\n",
    "```bash\n",
    "metaBEAT_global.py \\\n",
    "-B ../exercise-3/GLOBAL/COI-trim30min100-merge-c3-id97-OTU-denovo.biom \\ #denovo BIOM table\n",
    "--metadata metadata.csv \\ #metadata file\n",
    "--kraken \\ #use kraken for assignment\n",
    "--kraken_db ../reference-dbs/KRAKEN/kraken_k31n5 \\ #location of kraken database\n",
    "--blast \\ #use blast for assignment\n",
    "--blast_db ../reference-dbs/BLAST/egrep-custom/blast_k31n5 \\ # location of blast database\n",
    "--min_ident 0.8 \\ #only attemt assignments for queries with at least 80% simlilarity to any reference sequence\n",
    "-n 5 \\ #use 5 processors where possible\n",
    "-o COI-trim30min100-merge-c3-id97 #arbitraty name of the analysis\n",
    "```"
   ]
  },
  {
   "cell_type": "markdown",
   "metadata": {},
   "source": [
    "Note that the entire process only took ~10 minutes.\n",
    "\n",
    "As before, everything that metaBEAT did is presented to you in the output (see above) and all intermediate files are kept in the directory `./GLOBAL`, and for each of the two approaches in a separate directory within.\n",
    "\n",
    "Scroll through the output cell to get a quick idea of all the things that the pipeline just did for you. It's not needed to go into detail, just have a quick look."
   ]
  },
  {
   "cell_type": "markdown",
   "metadata": {},
   "source": [
    "metaBEAT has produced results tables in BIOM format for each of the approaches in the corresponding directory."
   ]
  },
  {
   "cell_type": "markdown",
   "metadata": {},
   "source": [
    "A nice tool for interactive exploration of your results is [phinch](http://phinch.org/). Load one of the tables (`*.biom`) and see if you can get an overview of your results.\n",
    "\n",
    "As mentioned before, the BIOM format is a standardized file format and there is a range of tools out there that can be used to analyse these data.\n",
    "\n"
   ]
  }
 ],
 "metadata": {
  "kernelspec": {
   "display_name": "Python 2",
   "language": "python",
   "name": "python2"
  },
  "language_info": {
   "codemirror_mode": {
    "name": "ipython",
    "version": 2
   },
   "file_extension": ".py",
   "mimetype": "text/x-python",
   "name": "python",
   "nbconvert_exporter": "python",
   "pygments_lexer": "ipython2",
   "version": "2.7.6"
  }
 },
 "nbformat": 4,
 "nbformat_minor": 0
}
