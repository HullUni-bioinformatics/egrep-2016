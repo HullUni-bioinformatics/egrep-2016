{
 "cells": [
  {
   "cell_type": "markdown",
   "metadata": {},
   "source": [
    "Get local copy of a tsv table."
   ]
  },
  {
   "cell_type": "code",
   "execution_count": 45,
   "metadata": {
    "collapsed": true
   },
   "outputs": [],
   "source": [
    "!cp ../../data/exercise-3/GLOBAL/COI-trim30min100-merge-c3-id97-OTU-denovo.tsv ."
   ]
  },
  {
   "cell_type": "markdown",
   "metadata": {},
   "source": [
    "Get metadata."
   ]
  },
  {
   "cell_type": "code",
   "execution_count": 46,
   "metadata": {
    "collapsed": true
   },
   "outputs": [],
   "source": [
    "!cp ../../data/exercise-5/metadata.csv ."
   ]
  },
  {
   "cell_type": "markdown",
   "metadata": {},
   "source": [
    "Parse BIOM tsv table and transpose for importing into R."
   ]
  },
  {
   "cell_type": "code",
   "execution_count": 47,
   "metadata": {
    "collapsed": false
   },
   "outputs": [],
   "source": [
    "def BIOM_tsv_to_R_transpose(in_tsv, out_csv):\n",
    "    \"\"\"\n",
    "    Parse a biom table in tsv format and transpose it for input into R\n",
    "    \"\"\"\n",
    "    \n",
    "    from biom import Table\n",
    "    \n",
    "    tsv = open(in_tsv)\n",
    "    #in_tsv = open('COI-trim30min100-merge-c3-id97-OTU-taxonomy.kraken.tsv')\n",
    "    func = lambda x : x\n",
    "    intable = Table.from_tsv(tsv,obs_mapping=None, sample_mapping=None, process_func=func)\n",
    "    outtable = intable.transpose()\n",
    "    out=open(\"transposed.tsv\",\"w\")\n",
    "    out.write(outtable.to_tsv(header_key=None, header_value=None))\n",
    "    out.close()\n",
    "\n",
    "    #refine\n",
    "    intable = open('transposed.tsv','r')\n",
    "    temp = intable.next()\n",
    "\n",
    "    out=''\n",
    "    for line in intable:\n",
    "        if line.startswith('#'):\n",
    "            if line.strip().endswith('taxomomy'):\n",
    "                print \"Removing taxonomy\"\n",
    "                line = \",\".join(line.strip().split(\"\\t\")[:-1]).replace('#OTU ID','Sample').replace('\\t',',')+'\\n'\n",
    "            line = line.replace('#OTU ID','Sample').replace('\\t',',')\n",
    "            out+=line\n",
    "        else:\n",
    "            line = line.replace('\\t',',')\n",
    "            out+=line\n",
    "\n",
    "    outtable = open(out_csv,'w')\n",
    "    outtable.write(out)\n",
    "    outtable.close()"
   ]
  },
  {
   "cell_type": "code",
   "execution_count": 42,
   "metadata": {
    "collapsed": false
   },
   "outputs": [],
   "source": [
    "BIOM_tsv_to_R_transpose(in_tsv='COI-trim30min100-merge-c3-id97-OTU-denovo.tsv', out_csv='good_for_R.csv')\n"
   ]
  },
  {
   "cell_type": "code",
   "execution_count": 49,
   "metadata": {
    "collapsed": false
   },
   "outputs": [],
   "source": [
    "def adjust_metadata_sample_ids(intable, metadata):\n",
    "    \"\"\"\n",
    "    Addjust metadata sample ids to match the sample ids in table\n",
    "    \"\"\"\n",
    "    import sys\n",
    "    \n",
    "    #get sample ids in table\n",
    "    ids = []\n",
    "    table = open(intable,'r')\n",
    "    table.next()\n",
    "    \n",
    "    for line in table:\n",
    "        ids.append(line.split(\",\")[0])\n",
    "        \n",
    "    table.close()\n",
    "#    print ids\n",
    "    \n",
    "    #parse metadata\n",
    "    meta_in = open(metadata,'r')\n",
    "    out = meta_in.next()\n",
    "\n",
    "    meta_ids = {}\n",
    "    meta_data = {}\n",
    "    for line in meta_in:\n",
    "        l = line.strip().split(\",\")\n",
    "#        print l[0]\n",
    "        for i in range(len(ids)):\n",
    "            if ids[i].startswith(l[0]):\n",
    "                if not l[0] in meta_ids:\n",
    "                    meta_ids[l[0]] = []\n",
    "                meta_ids[l[0]].append(ids[i])\n",
    "                \n",
    "                if len(meta_ids[l[0]]) == 1:\n",
    "#                    print \"Found matches for %s: %s\" %(l[0],meta_ids[l[0]] )\n",
    "                    l[0] = meta_ids[l[0]][0]\n",
    "                    meta_data[i] = l\n",
    "                else:\n",
    "                    sys.exit(\"ambiguous match for %s\" %(l[0]))\n",
    "        else:\n",
    "            \"Did not find a match for %s\" %l[0]\n",
    "    \n",
    "    meta_in.close()\n",
    "    \n",
    "    if len(meta_ids) == len(ids):\n",
    "        to_correct = 1 #always sort \n",
    "        for s in meta_ids:\n",
    "            if not s == meta_ids[s][0]:\n",
    "                print \"Sample ids in '%s' match those in '%s'\" %(metadata, intable)\n",
    "                to_correct+=1\n",
    "#            else:\n",
    "#                print \"%s is identical to %s\" %(s,meta_ids[s][0])\n",
    "\n",
    "        if to_correct:\n",
    "            print \"ok - updating file %s\" %metadata\n",
    "            #convert\n",
    "            outfh = open(metadata,'w')\n",
    "            for s in sorted(meta_data):\n",
    "                out+=\",\".join(meta_data[s])+'\\n'\n",
    "        \n",
    "            outfh.write(out)\n",
    "            outfh.close()\n",
    "        \n",
    "        else:\n",
    "            print \"Nothing to do here - sample ids in '%s' match those in '%s'\" %(metadata, intable)\n",
    "        \n",
    "        \n",
    "    else:\n",
    "        print \"Did not find metadata for all samples. \"\n",
    "#        print meta_ids\n",
    "        \n"
   ]
  },
  {
   "cell_type": "code",
   "execution_count": 50,
   "metadata": {
    "collapsed": false
   },
   "outputs": [
    {
     "name": "stdout",
     "output_type": "stream",
     "text": [
      "ok - updating file metadata.csv\n"
     ]
    }
   ],
   "source": [
    "adjust_metadata_sample_ids(intable='good_for_R.csv', metadata='metadata.csv')"
   ]
  },
  {
   "cell_type": "markdown",
   "metadata": {},
   "source": [
    "Plot stuff in R."
   ]
  },
  {
   "cell_type": "code",
   "execution_count": null,
   "metadata": {
    "collapsed": true
   },
   "outputs": [],
   "source": []
  }
 ],
 "metadata": {
  "kernelspec": {
   "display_name": "Python 2",
   "language": "python",
   "name": "python2"
  },
  "language_info": {
   "codemirror_mode": {
    "name": "ipython",
    "version": 2
   },
   "file_extension": ".py",
   "mimetype": "text/x-python",
   "name": "python",
   "nbconvert_exporter": "python",
   "pygments_lexer": "ipython2",
   "version": "2.7.6"
  }
 },
 "nbformat": 4,
 "nbformat_minor": 0
}
