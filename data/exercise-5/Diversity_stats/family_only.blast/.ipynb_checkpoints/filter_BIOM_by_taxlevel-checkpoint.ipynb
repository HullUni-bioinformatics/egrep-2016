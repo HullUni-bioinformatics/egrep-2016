{
 "cells": [
  {
   "cell_type": "code",
   "execution_count": 1,
   "metadata": {
    "collapsed": true
   },
   "outputs": [],
   "source": [
    "import metaBEAT_global_misc_functions as mb"
   ]
  },
  {
   "cell_type": "markdown",
   "metadata": {},
   "source": [
    "Get taxonomy annotated OTU table in biom format."
   ]
  },
  {
   "cell_type": "code",
   "execution_count": 2,
   "metadata": {
    "collapsed": true
   },
   "outputs": [],
   "source": [
    "!cp ../../../data/exercise-5/GLOBAL/BLAST_0.8/COI-trim30min100-merge-c3-id97-by-taxonomy-readcounts.blast.biom ."
   ]
  },
  {
   "cell_type": "markdown",
   "metadata": {},
   "source": [
    "Try to filter by assignemnt level."
   ]
  },
  {
   "cell_type": "markdown",
   "metadata": {},
   "source": [
    "Load the OTU table containing the read counts by taxon."
   ]
  },
  {
   "cell_type": "code",
   "execution_count": 3,
   "metadata": {
    "collapsed": true
   },
   "outputs": [],
   "source": [
    "table = mb.load_BIOM('COI-trim30min100-merge-c3-id97-by-taxonomy-readcounts.blast.biom')"
   ]
  },
  {
   "cell_type": "markdown",
   "metadata": {},
   "source": [
    "Extract only taxa identified to at least the desired taxonomic level - we are going to go for 'family'."
   ]
  },
  {
   "cell_type": "code",
   "execution_count": 4,
   "metadata": {
    "collapsed": false
   },
   "outputs": [
    {
     "name": "stdout",
     "output_type": "stream",
     "text": [
      "Found taxonomy metadata with OTUs - ok!\n"
     ]
    }
   ],
   "source": [
    "reduced_table = mb.BIOM_return_by_tax_level(taxlevel='family', BIOM=table)"
   ]
  },
  {
   "cell_type": "markdown",
   "metadata": {},
   "source": [
    "Clip taxonomy line at specified level."
   ]
  },
  {
   "cell_type": "code",
   "execution_count": 5,
   "metadata": {
    "collapsed": false
   },
   "outputs": [
    {
     "name": "stdout",
     "output_type": "stream",
     "text": [
      "Found taxonomy metadata with OTUs - ok!\n",
      "fishy: [u'k__Metazoa', u'p__Arthropoda', u'c__Arachnida', u'o__unknown', u'f__unknown']\n",
      "fishy: [u'k__Metazoa', u'p__Arthropoda', u'c__Insecta', u'o__Lepidoptera', u'f__unknown']\n",
      "fishy: [u'k__Metazoa', u'p__Arthropoda', u'c__Insecta', u'o__Psocoptera', u'f__unknown']\n",
      "fishy: [u'k__Metazoa', u'p__Arthropoda', u'c__Insecta', u'o__Psocoptera', u'f__unknown']\n"
     ]
    }
   ],
   "source": [
    "clipped_table = mb.BIOM_return_clipped_taxonomy(taxlevel='family', BIOM=reduced_table)"
   ]
  },
  {
   "cell_type": "markdown",
   "metadata": {},
   "source": [
    "How many OTUs where there before collapsing?"
   ]
  },
  {
   "cell_type": "code",
   "execution_count": 6,
   "metadata": {
    "collapsed": false
   },
   "outputs": [
    {
     "name": "stdout",
     "output_type": "stream",
     "text": [
      "232\n"
     ]
    }
   ],
   "source": [
    "print len(set(clipped_table.ids(axis='observation')))"
   ]
  },
  {
   "cell_type": "markdown",
   "metadata": {},
   "source": [
    "Collapse by taxonomy."
   ]
  },
  {
   "cell_type": "code",
   "execution_count": 7,
   "metadata": {
    "collapsed": false
   },
   "outputs": [],
   "source": [
    "clipped_collapsed_table = mb.collapse_biom_by_taxonomy(clipped_table)"
   ]
  },
  {
   "cell_type": "markdown",
   "metadata": {},
   "source": [
    "How many OTUs are there after collapsing?"
   ]
  },
  {
   "cell_type": "code",
   "execution_count": 8,
   "metadata": {
    "collapsed": false
   },
   "outputs": [
    {
     "name": "stdout",
     "output_type": "stream",
     "text": [
      "82\n"
     ]
    }
   ],
   "source": [
    "print len(set(clipped_collapsed_table.ids(axis='observation')))"
   ]
  },
  {
   "cell_type": "markdown",
   "metadata": {},
   "source": [
    "Extract abundance information for each taxon."
   ]
  },
  {
   "cell_type": "code",
   "execution_count": 9,
   "metadata": {
    "collapsed": false
   },
   "outputs": [],
   "source": [
    "mb.per_taxon_abundance(BIOM=clipped_collapsed_table,tsv='family_per_sample_abundance.tsv')"
   ]
  },
  {
   "cell_type": "code",
   "execution_count": 10,
   "metadata": {
    "collapsed": false
   },
   "outputs": [
    {
     "name": "stdout",
     "output_type": "stream",
     "text": [
      "#taxon\tsample_count\tsample_proportion\r\n",
      "Anthribidae\t1\t0.03\r\n",
      "Bibionidae\t1\t0.03\r\n",
      "Bucculatricidae\t1\t0.03\r\n",
      "Byturidae\t1\t0.03\r\n",
      "Cryptophagidae\t1\t0.03\r\n",
      "Delphacidae\t1\t0.03\r\n",
      "Eurytomidae\t1\t0.03\r\n",
      "Hemerobiidae\t1\t0.03\r\n",
      "Issidae\t1\t0.03\r\n",
      "Liviidae\t1\t0.03\r\n",
      "Melampsoraceae\t1\t0.03\r\n",
      "Nepticulidae\t1\t0.03\r\n",
      "Nitidulidae\t1\t0.03\r\n",
      "Panorpidae\t1\t0.03\r\n",
      "Peripsocidae\t1\t0.03\r\n",
      "Phoridae\t1\t0.03\r\n",
      "Psyllidae\t1\t0.03\r\n",
      "Raphidiidae\t1\t0.03\r\n",
      "Reduviidae\t1\t0.03\r\n",
      "Salpingidae\t1\t0.03\r\n",
      "Sciomyzidae\t1\t0.03\r\n",
      "Tettigoniidae\t1\t0.03\r\n",
      "Tomoceridae\t1\t0.03\r\n",
      "Araneidae\t2\t0.05\r\n",
      "Caeciliusidae\t2\t0.05\r\n",
      "Calliphoridae\t2\t0.05\r\n",
      "Carabidae\t2\t0.05\r\n",
      "Ceratopogonidae\t2\t0.05\r\n",
      "Dictynidae\t2\t0.05\r\n",
      "Elateridae\t2\t0.05\r\n",
      "Entomobryidae\t2\t0.05\r\n",
      "Limnephilidae\t2\t0.05\r\n",
      "Rhagionidae\t2\t0.05\r\n",
      "Scathophagidae\t2\t0.05\r\n",
      "Sminthuridae\t2\t0.05\r\n",
      "Tachinidae\t2\t0.05\r\n",
      "Baetidae\t3\t0.08\r\n",
      "Cecidomyiidae\t3\t0.08\r\n",
      "Latridiidae\t3\t0.08\r\n",
      "Nabidae\t3\t0.08\r\n",
      "Nemesiidae\t3\t0.08\r\n",
      "Pipunculidae\t3\t0.08\r\n",
      "Syrphidae\t3\t0.08\r\n",
      "Thomisidae\t3\t0.08\r\n",
      "Brentidae\t4\t0.10\r\n",
      "Calopterygidae\t4\t0.10\r\n",
      "Clubionidae\t4\t0.10\r\n",
      "Ichneumonidae\t4\t0.10\r\n",
      "Nolidae\t4\t0.10\r\n",
      "Philodromidae\t4\t0.10\r\n",
      "Tetragnathidae\t4\t0.10\r\n",
      "Chrysopidae\t5\t0.13\r\n",
      "Cichlidae\t5\t0.13\r\n",
      "Cynipidae\t5\t0.13\r\n",
      "Oecophoridae\t5\t0.13\r\n",
      "Triopsidae\t5\t0.13\r\n",
      "Anyphaenidae\t6\t0.15\r\n",
      "Aphrophoridae\t6\t0.15\r\n",
      "Braconidae\t6\t0.15\r\n",
      "Lygaeidae\t6\t0.15\r\n",
      "Tortricidae\t6\t0.15\r\n",
      "Coccinellidae\t7\t0.18\r\n",
      "Linyphiidae\t7\t0.18\r\n",
      "Lymantriidae\t7\t0.18\r\n",
      "Helicidae\t8\t0.21\r\n",
      "Notodontidae\t8\t0.21\r\n",
      "Theridiidae\t8\t0.21\r\n",
      "Curculionidae\t9\t0.23\r\n",
      "Mydidae\t9\t0.23\r\n",
      "Erebidae\t10\t0.26\r\n",
      "Aphididae\t11\t0.28\r\n",
      "Tenthredinidae\t11\t0.28\r\n",
      "Chrysomelidae\t12\t0.31\r\n",
      "Noctuidae\t12\t0.31\r\n",
      "Nectriaceae\t13\t0.33\r\n",
      "Anthocoridae\t14\t0.36\r\n",
      "Cicadellidae\t14\t0.36\r\n",
      "Acanthosomatidae\t18\t0.46\r\n",
      "Pentatomidae\t18\t0.46\r\n",
      "Stenopsocidae\t22\t0.56\r\n",
      "Miridae\t25\t0.64\r\n",
      "Geometridae\t27\t0.69\r\n"
     ]
    }
   ],
   "source": [
    "!cat family_per_sample_abundance.tsv"
   ]
  },
  {
   "cell_type": "markdown",
   "metadata": {},
   "source": [
    "Write table to file."
   ]
  },
  {
   "cell_type": "code",
   "execution_count": 11,
   "metadata": {
    "collapsed": true
   },
   "outputs": [],
   "source": [
    "mb.write_BIOM(BIOM=clipped_collapsed_table, target_file='COI-trim30min100-merge-c3-id97-by-taxonomy-readcounts.blast.family')"
   ]
  },
  {
   "cell_type": "markdown",
   "metadata": {},
   "source": [
    "Prepare the reduced table for input into R."
   ]
  },
  {
   "cell_type": "code",
   "execution_count": 13,
   "metadata": {
    "collapsed": false
   },
   "outputs": [],
   "source": [
    "mb.BIOM_tsv_to_R_transpose(in_tsv='COI-trim30min100-merge-c3-id97-by-taxonomy-readcounts.blast.family.tsv', out_csv='COI-trim30min100-merge-c3-id97-by-taxonomy-readcounts.blast.family.for-R.csv')"
   ]
  },
  {
   "cell_type": "markdown",
   "metadata": {},
   "source": [
    "Get metadata."
   ]
  },
  {
   "cell_type": "code",
   "execution_count": 14,
   "metadata": {
    "collapsed": true
   },
   "outputs": [],
   "source": [
    "!cp ../../../data/exercise-5/metadata.csv ."
   ]
  },
  {
   "cell_type": "markdown",
   "metadata": {},
   "source": [
    "Make sure sample ids match between OTU table and metadata table - sort metadata table to match the order in OTU table, so we don't have to worry about that any more later in R."
   ]
  },
  {
   "cell_type": "code",
   "execution_count": null,
   "metadata": {
    "collapsed": true
   },
   "outputs": [],
   "source": [
    "mb.adjust_metadata_sample_ids(intable='COI-trim30min100-merge-c3-id97-by-taxonomy-readcounts.blast.family.for-R.csv', metadata='metadata.csv')"
   ]
  },
  {
   "cell_type": "markdown",
   "metadata": {},
   "source": [
    "Table is ready to be looked at in R."
   ]
  },
  {
   "cell_type": "code",
   "execution_count": 16,
   "metadata": {
    "collapsed": true
   },
   "outputs": [],
   "source": [
    "!mkdir Ordination"
   ]
  },
  {
   "cell_type": "code",
   "execution_count": 17,
   "metadata": {
    "collapsed": true
   },
   "outputs": [],
   "source": [
    "!mkdir Rarefaction"
   ]
  },
  {
   "cell_type": "code",
   "execution_count": 18,
   "metadata": {
    "collapsed": true
   },
   "outputs": [],
   "source": [
    "!mkdir Richness"
   ]
  }
 ],
 "metadata": {
  "kernelspec": {
   "display_name": "Python 2",
   "language": "python",
   "name": "python2"
  },
  "language_info": {
   "codemirror_mode": {
    "name": "ipython",
    "version": 2
   },
   "file_extension": ".py",
   "mimetype": "text/x-python",
   "name": "python",
   "nbconvert_exporter": "python",
   "pygments_lexer": "ipython2",
   "version": "2.7.6"
  }
 },
 "nbformat": 4,
 "nbformat_minor": 0
}
