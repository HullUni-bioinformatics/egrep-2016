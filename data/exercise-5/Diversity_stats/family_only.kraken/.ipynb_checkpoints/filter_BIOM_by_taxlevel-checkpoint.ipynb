{
 "cells": [
  {
   "cell_type": "code",
   "execution_count": 1,
   "metadata": {
    "collapsed": true
   },
   "outputs": [],
   "source": [
    "import metaBEAT_global_misc_functions as mb"
   ]
  },
  {
   "cell_type": "markdown",
   "metadata": {},
   "source": [
    "Get taxonomy annotated OTU table in biom format."
   ]
  },
  {
   "cell_type": "code",
   "execution_count": 2,
   "metadata": {
    "collapsed": true
   },
   "outputs": [],
   "source": [
    "!cp ../../../data/exercise-5/GLOBAL/KRAKEN/COI-trim30min100-merge-c3-id97-by-taxonomy-readcounts.kraken.biom ."
   ]
  },
  {
   "cell_type": "markdown",
   "metadata": {},
   "source": [
    "Try to filter by assignemnt level."
   ]
  },
  {
   "cell_type": "markdown",
   "metadata": {},
   "source": [
    "Load the OTU table containing the read counts by taxon."
   ]
  },
  {
   "cell_type": "code",
   "execution_count": 3,
   "metadata": {
    "collapsed": true
   },
   "outputs": [],
   "source": [
    "table = mb.load_BIOM('COI-trim30min100-merge-c3-id97-by-taxonomy-readcounts.kraken.biom')"
   ]
  },
  {
   "cell_type": "markdown",
   "metadata": {},
   "source": [
    "Extract only taxa identified to at least the desired taxonomic level - we are going to go for 'family'."
   ]
  },
  {
   "cell_type": "code",
   "execution_count": 4,
   "metadata": {
    "collapsed": false
   },
   "outputs": [
    {
     "name": "stdout",
     "output_type": "stream",
     "text": [
      "Found taxonomy metadata with OTUs - ok!\n"
     ]
    }
   ],
   "source": [
    "reduced_table = mb.BIOM_return_by_tax_level(taxlevel='family', BIOM=table)"
   ]
  },
  {
   "cell_type": "markdown",
   "metadata": {},
   "source": [
    "Clip taxonomy line at specified level."
   ]
  },
  {
   "cell_type": "code",
   "execution_count": 5,
   "metadata": {
    "collapsed": false
   },
   "outputs": [
    {
     "name": "stdout",
     "output_type": "stream",
     "text": [
      "Found taxonomy metadata with OTUs - ok!\n",
      "fishy: [u'k__Metazoa', u'p__Arthropoda', u'c__Arachnida', u'o__unknown', u'f__unknown']\n",
      "fishy: [u'k__Metazoa', u'p__Arthropoda', u'c__Arachnida', u'o__unknown', u'f__unknown']\n",
      "fishy: [u'k__Metazoa', u'p__Arthropoda', u'c__Insecta', u'o__Diptera', u'f__unknown']\n",
      "fishy: [u'k__Metazoa', u'p__Arthropoda', u'c__Insecta', u'o__Diptera', u'f__unknown']\n",
      "fishy: [u'k__Metazoa', u'p__Arthropoda', u'c__Insecta', u'o__Hemiptera', u'f__unknown']\n",
      "fishy: [u'k__Metazoa', u'p__Arthropoda', u'c__Insecta', u'o__Hymenoptera', u'f__unknown']\n",
      "fishy: [u'k__Metazoa', u'p__Arthropoda', u'c__Insecta', u'o__Hymenoptera', u'f__unknown']\n",
      "fishy: [u'k__Metazoa', u'p__Arthropoda', u'c__Insecta', u'o__Hymenoptera', u'f__unknown']\n",
      "fishy: [u'k__Metazoa', u'p__Arthropoda', u'c__Insecta', u'o__Hymenoptera', u'f__unknown']\n",
      "fishy: [u'k__Metazoa', u'p__Arthropoda', u'c__Insecta', u'o__Hymenoptera', u'f__unknown']\n",
      "fishy: [u'k__Metazoa', u'p__Arthropoda', u'c__Insecta', u'o__Lepidoptera', u'f__unknown']\n",
      "fishy: [u'k__Metazoa', u'p__Arthropoda', u'c__Insecta', u'o__Psocoptera', u'f__unknown']\n",
      "fishy: [u'k__Metazoa', u'p__Arthropoda', u'c__Insecta', u'o__Psocoptera', u'f__unknown']\n",
      "fishy: [u'k__Metazoa', u'p__Arthropoda', u'c__Insecta', u'o__Psocoptera', u'f__unknown']\n",
      "fishy: [u'k__Metazoa', u'p__Arthropoda', u'c__Insecta', u'o__Psocoptera', u'f__unknown']\n",
      "fishy: [u'k__Metazoa', u'p__Arthropoda', u'c__Insecta', u'o__Psocoptera', u'f__unknown']\n",
      "fishy: [u'k__Metazoa', u'p__Arthropoda', u'c__Insecta', u'o__Psocoptera', u'f__unknown']\n",
      "fishy: [u'k__Metazoa', u'p__Arthropoda', u'c__Insecta', u'o__Trichoptera', u'f__unknown']\n"
     ]
    }
   ],
   "source": [
    "clipped_table = mb.BIOM_return_clipped_taxonomy(taxlevel='family', BIOM=reduced_table)"
   ]
  },
  {
   "cell_type": "markdown",
   "metadata": {},
   "source": [
    "How many OTUs where there before collapsing?"
   ]
  },
  {
   "cell_type": "code",
   "execution_count": 6,
   "metadata": {
    "collapsed": false
   },
   "outputs": [
    {
     "name": "stdout",
     "output_type": "stream",
     "text": [
      "380\n"
     ]
    }
   ],
   "source": [
    "print len(set(clipped_table.ids(axis='observation')))"
   ]
  },
  {
   "cell_type": "markdown",
   "metadata": {},
   "source": [
    "Collapse by taxonomy."
   ]
  },
  {
   "cell_type": "code",
   "execution_count": 7,
   "metadata": {
    "collapsed": false
   },
   "outputs": [],
   "source": [
    "clipped_collapsed_table = mb.collapse_biom_by_taxonomy(clipped_table)"
   ]
  },
  {
   "cell_type": "markdown",
   "metadata": {},
   "source": [
    "How many OTUs are there after collapsing?"
   ]
  },
  {
   "cell_type": "code",
   "execution_count": 8,
   "metadata": {
    "collapsed": false
   },
   "outputs": [
    {
     "name": "stdout",
     "output_type": "stream",
     "text": [
      "131\n"
     ]
    }
   ],
   "source": [
    "print len(set(clipped_collapsed_table.ids(axis='observation')))"
   ]
  },
  {
   "cell_type": "markdown",
   "metadata": {},
   "source": [
    "Extract abundance information for each taxon."
   ]
  },
  {
   "cell_type": "code",
   "execution_count": 9,
   "metadata": {
    "collapsed": false
   },
   "outputs": [],
   "source": [
    "mb.per_taxon_abundance(BIOM=clipped_collapsed_table,tsv='family_per_sample_abundance.tsv')"
   ]
  },
  {
   "cell_type": "code",
   "execution_count": 10,
   "metadata": {
    "collapsed": false
   },
   "outputs": [
    {
     "name": "stdout",
     "output_type": "stream",
     "text": [
      "#taxon\tsample_count\tsample_proportion\r\n",
      "Aphrophoridae\t1\t0.03\r\n",
      "Bostrichidae\t1\t0.03\r\n",
      "Bucculatricidae\t1\t0.03\r\n",
      "Buprestidae\t1\t0.03\r\n",
      "Byturidae\t1\t0.03\r\n",
      "Cerambycidae\t1\t0.03\r\n",
      "Corixidae\t1\t0.03\r\n",
      "Cryptophagidae\t1\t0.03\r\n",
      "Delphacidae\t1\t0.03\r\n",
      "Drosophilidae\t1\t0.03\r\n",
      "Entomobryidae\t1\t0.03\r\n",
      "Eupelmidae\t1\t0.03\r\n",
      "Eurytomidae\t1\t0.03\r\n",
      "Figitidae\t1\t0.03\r\n",
      "Gasteruptiidae\t1\t0.03\r\n",
      "Gelechiidae\t1\t0.03\r\n",
      "Gracillariidae\t1\t0.03\r\n",
      "Hemerobiidae\t1\t0.03\r\n",
      "Hepialidae\t1\t0.03\r\n",
      "Histeridae\t1\t0.03\r\n",
      "Issidae\t1\t0.03\r\n",
      "Keroplatidae\t1\t0.03\r\n",
      "Lasiocampidae\t1\t0.03\r\n",
      "Limnesiidae\t1\t0.03\r\n",
      "Liviidae\t1\t0.03\r\n",
      "Megalopygidae\t1\t0.03\r\n",
      "Melampsoraceae\t1\t0.03\r\n",
      "Muscidae\t1\t0.03\r\n",
      "Nemesiidae\t1\t0.03\r\n",
      "Nepticulidae\t1\t0.03\r\n",
      "Panorpidae\t1\t0.03\r\n",
      "Papilionidae\t1\t0.03\r\n",
      "Perilampidae\t1\t0.03\r\n",
      "Peripsocidae\t1\t0.03\r\n",
      "Psychidae\t1\t0.03\r\n",
      "Raphidiidae\t1\t0.03\r\n",
      "Salpingidae\t1\t0.03\r\n",
      "Saturniidae\t1\t0.03\r\n",
      "Sciaridae\t1\t0.03\r\n",
      "Sciomyzidae\t1\t0.03\r\n",
      "Simuliidae\t1\t0.03\r\n",
      "Sparassidae\t1\t0.03\r\n",
      "Tephritidae\t1\t0.03\r\n",
      "Thraupidae\t1\t0.03\r\n",
      "Tomoceridae\t1\t0.03\r\n",
      "Anthomyiidae\t2\t0.05\r\n",
      "Caeciliusidae\t2\t0.05\r\n",
      "Calamoceratidae\t2\t0.05\r\n",
      "Calliphoridae\t2\t0.05\r\n",
      "Carabidae\t2\t0.05\r\n",
      "Culicidae\t2\t0.05\r\n",
      "Dictynidae\t2\t0.05\r\n",
      "Elipsocidae\t2\t0.05\r\n",
      "Heleomyzidae\t2\t0.05\r\n",
      "Hydrophilidae\t2\t0.05\r\n",
      "Latridiidae\t2\t0.05\r\n",
      "Limnephilidae\t2\t0.05\r\n",
      "Limoniidae\t2\t0.05\r\n",
      "Milichiidae\t2\t0.05\r\n",
      "Mycetophilidae\t2\t0.05\r\n",
      "Psyllidae\t2\t0.05\r\n",
      "Pyralidae\t2\t0.05\r\n",
      "Rhagionidae\t2\t0.05\r\n",
      "Sminthuridae\t2\t0.05\r\n",
      "Tettigoniidae\t2\t0.05\r\n",
      "Anthribidae\t3\t0.08\r\n",
      "Araneidae\t3\t0.08\r\n",
      "Coreidae\t3\t0.08\r\n",
      "Elachistidae\t3\t0.08\r\n",
      "Elateridae\t3\t0.08\r\n",
      "Leiodidae\t3\t0.08\r\n",
      "Lycaenidae\t3\t0.08\r\n",
      "Nabidae\t3\t0.08\r\n",
      "Psocidae\t3\t0.08\r\n",
      "Tenebrionidae\t3\t0.08\r\n",
      "Thomisidae\t3\t0.08\r\n",
      "Baetidae\t4\t0.10\r\n",
      "Calopterygidae\t4\t0.10\r\n",
      "Chrysididae\t4\t0.10\r\n",
      "Clubionidae\t4\t0.10\r\n",
      "Crambidae\t4\t0.10\r\n",
      "Formicidae\t4\t0.10\r\n",
      "Nitidulidae\t4\t0.10\r\n",
      "Philodromidae\t4\t0.10\r\n",
      "Pipunculidae\t4\t0.10\r\n",
      "Scelionidae\t4\t0.10\r\n",
      "Staphylinidae\t4\t0.10\r\n",
      "Syrphidae\t4\t0.10\r\n",
      "Tetragnathidae\t4\t0.10\r\n",
      "Brentidae\t5\t0.13\r\n",
      "Cichlidae\t5\t0.13\r\n",
      "Erebidae\t5\t0.13\r\n",
      "Nolidae\t5\t0.13\r\n",
      "Nymphalidae\t5\t0.13\r\n",
      "Phoridae\t5\t0.13\r\n",
      "Pterophoridae\t5\t0.13\r\n",
      "Tachinidae\t5\t0.13\r\n",
      "Triopsidae\t5\t0.13\r\n",
      "Anyphaenidae\t6\t0.15\r\n",
      "Cynipidae\t6\t0.15\r\n",
      "Glossosomatidae\t6\t0.15\r\n",
      "Lygaeidae\t6\t0.15\r\n",
      "Ceratopogonidae\t7\t0.18\r\n",
      "Chrysopidae\t7\t0.18\r\n",
      "Coccinellidae\t7\t0.18\r\n",
      "Linyphiidae\t7\t0.18\r\n",
      "Lymantriidae\t7\t0.18\r\n",
      "Oecophoridae\t7\t0.18\r\n",
      "Pteromalidae\t7\t0.18\r\n",
      "Theridiidae\t7\t0.18\r\n",
      "Nectriaceae\t8\t0.21\r\n",
      "Notodontidae\t8\t0.21\r\n",
      "Tortricidae\t9\t0.23\r\n",
      "Cecidomyiidae\t10\t0.26\r\n",
      "Helicidae\t10\t0.26\r\n",
      "Aphididae\t11\t0.28\r\n",
      "Braconidae\t11\t0.28\r\n",
      "Chrysomelidae\t12\t0.31\r\n",
      "Cicadellidae\t12\t0.31\r\n",
      "Anthocoridae\t14\t0.36\r\n",
      "Curculionidae\t14\t0.36\r\n",
      "Noctuidae\t14\t0.36\r\n",
      "Tenthredinidae\t14\t0.36\r\n",
      "Ectopsocidae\t16\t0.41\r\n",
      "Chironomidae\t19\t0.49\r\n",
      "Ichneumonidae\t19\t0.49\r\n",
      "Stenopsocidae\t22\t0.56\r\n",
      "Pentatomidae\t26\t0.67\r\n",
      "Geometridae\t27\t0.69\r\n",
      "Miridae\t27\t0.69\r\n",
      "Acanthosomatidae\t30\t0.77\r\n"
     ]
    }
   ],
   "source": [
    "!cat family_per_sample_abundance.tsv"
   ]
  },
  {
   "cell_type": "markdown",
   "metadata": {},
   "source": [
    "Write table to file."
   ]
  },
  {
   "cell_type": "code",
   "execution_count": 11,
   "metadata": {
    "collapsed": true
   },
   "outputs": [],
   "source": [
    "mb.write_BIOM(BIOM=clipped_collapsed_table, target_file='COI-trim30min100-merge-c3-id97-by-taxonomy-readcounts.kraken.family')"
   ]
  },
  {
   "cell_type": "markdown",
   "metadata": {},
   "source": [
    "Prepare the reduced table for input into R."
   ]
  },
  {
   "cell_type": "code",
   "execution_count": 17,
   "metadata": {
    "collapsed": false
   },
   "outputs": [],
   "source": [
    "mb.BIOM_tsv_to_R_transpose(in_tsv='COI-trim30min100-merge-c3-id97-by-taxonomy-readcounts.kraken.family.tsv', out_csv='COI-trim30min100-merge-c3-id97-by-taxonomy-readcounts.kraken.family.for-R.csv')"
   ]
  },
  {
   "cell_type": "markdown",
   "metadata": {},
   "source": [
    "Get metadata."
   ]
  },
  {
   "cell_type": "code",
   "execution_count": 18,
   "metadata": {
    "collapsed": true
   },
   "outputs": [],
   "source": [
    "!cp ../../../data/exercise-5/metadata.csv ."
   ]
  },
  {
   "cell_type": "markdown",
   "metadata": {},
   "source": [
    "Make sure sample ids match between OTU table and metadata table - sort metadata table to match the order in OTU table, so we don't have to worry about that any more later in R."
   ]
  },
  {
   "cell_type": "code",
   "execution_count": null,
   "metadata": {
    "collapsed": false
   },
   "outputs": [],
   "source": [
    "mb.adjust_metadata_sample_ids(intable='COI-trim30min100-merge-c3-id97-by-taxonomy-readcounts.kraken.family.for-R.csv', metadata='metadata.csv')"
   ]
  },
  {
   "cell_type": "markdown",
   "metadata": {},
   "source": [
    "Table is ready to be looked at in R."
   ]
  },
  {
   "cell_type": "code",
   "execution_count": null,
   "metadata": {
    "collapsed": false
   },
   "outputs": [],
   "source": [
    "!mkdir Ordination"
   ]
  },
  {
   "cell_type": "code",
   "execution_count": 17,
   "metadata": {
    "collapsed": true
   },
   "outputs": [],
   "source": [
    "!mkdir Rarefaction"
   ]
  },
  {
   "cell_type": "code",
   "execution_count": 18,
   "metadata": {
    "collapsed": true
   },
   "outputs": [],
   "source": [
    "!mkdir Richness"
   ]
  }
 ],
 "metadata": {
  "kernelspec": {
   "display_name": "Python 2",
   "language": "python",
   "name": "python2"
  },
  "language_info": {
   "codemirror_mode": {
    "name": "ipython",
    "version": 2
   },
   "file_extension": ".py",
   "mimetype": "text/x-python",
   "name": "python",
   "nbconvert_exporter": "python",
   "pygments_lexer": "ipython2",
   "version": "2.7.6"
  }
 },
 "nbformat": 4,
 "nbformat_minor": 0
}
